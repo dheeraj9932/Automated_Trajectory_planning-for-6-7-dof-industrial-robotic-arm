{
  "nbformat": 4,
  "nbformat_minor": 0,
  "metadata": {
    "colab": {
      "name": "inverse_kinematics_implementation.ipynb",
      "provenance": [],
      "collapsed_sections": []
    },
    "kernelspec": {
      "name": "python3",
      "display_name": "Python 3"
    }
  },
  "cells": [
    {
      "cell_type": "code",
      "metadata": {
        "id": "jP8rXoStbLvK",
        "colab_type": "code",
        "colab": {}
      },
      "source": [
        "import numpy as np\n",
        "from numpy import dot, matrix, deg2rad, cross\n",
        "from math import pi\n",
        "import math\n",
        "from math import cos, sin, acos, asin"
      ],
      "execution_count": 0,
      "outputs": []
    },
    {
      "cell_type": "markdown",
      "metadata": {
        "id": "vtbutdrAb_kO",
        "colab_type": "text"
      },
      "source": [
        "input data: DH parameters of kuka iiwa7, initial theta angles, end effector position transformation matrix. "
      ]
    },
    {
      "cell_type": "code",
      "metadata": {
        "id": "cku5-VKob-GG",
        "colab_type": "code",
        "colab": {}
      },
      "source": [
        "# def r2d(x):\n",
        "#   return x*180/pi"
      ],
      "execution_count": 0,
      "outputs": []
    },
    {
      "cell_type": "code",
      "metadata": {
        "id": "ENMbEL71dyU4",
        "colab_type": "code",
        "outputId": "091f162b-33bd-487d-bbe4-4f39373eefee",
        "colab": {
          "base_uri": "https://localhost:8080/",
          "height": 134
        }
      },
      "source": [
        "d_bs, d_se, d_ew, d_wf = 340, 400, 400, 126\n",
        "d = np.array([d_bs, 0, d_se, 0, d_ew, 0, d_wf])\n",
        "#theta = np.array([d2r(-115.8158), d2r(107.2721),d2r(0),d2r(75),d2r(-143.2641),d2r(25.8884),d2r(-90.9575)])\n",
        "theta = np.array([deg2rad(30), deg2rad(-45),deg2rad(60),deg2rad(75),deg2rad(-20),deg2rad(95),deg2rad(-80)])\n",
        "#theta = np.array([deg2rad(0), deg2rad(0),deg2rad(0),deg2rad(0),deg2rad(0),deg2rad(0),deg2rad(0)])\n",
        "alpha = np.array([-pi/2, pi/2, pi/2, -pi/2, -pi/2, pi/2, 0])\n",
        "a = np.array([0,0,0,0,0,0,0])\n",
        "dh_parameters = [[a[0],alpha[0],d[0],theta[0]], [a[1],alpha[1],d[1],theta[1]], [a[2],alpha[2],d[2],theta[2]], [a[3],alpha[3],d[3],theta[3]], [a[4],alpha[4],d[4],theta[4]], [a[5],alpha[5],d[5],theta[5]], [a[6],alpha[6],d[6],theta[6]]]\n",
        "dh_parameters = np.matrix(dh_parameters)\n",
        "print(dh_parameters)"
      ],
      "execution_count": 0,
      "outputs": [
        {
          "output_type": "stream",
          "text": [
            "[[ 0.00000000e+00 -1.57079633e+00  3.40000000e+02  5.23598776e-01]\n",
            " [ 0.00000000e+00  1.57079633e+00  0.00000000e+00 -7.85398163e-01]\n",
            " [ 0.00000000e+00  1.57079633e+00  4.00000000e+02  1.04719755e+00]\n",
            " [ 0.00000000e+00 -1.57079633e+00  0.00000000e+00  1.30899694e+00]\n",
            " [ 0.00000000e+00 -1.57079633e+00  4.00000000e+02 -3.49065850e-01]\n",
            " [ 0.00000000e+00  1.57079633e+00  0.00000000e+00  1.65806279e+00]\n",
            " [ 0.00000000e+00  0.00000000e+00  1.26000000e+02 -1.39626340e+00]]\n"
          ],
          "name": "stdout"
        }
      ]
    },
    {
      "cell_type": "markdown",
      "metadata": {
        "id": "1bus0dOEOzEo",
        "colab_type": "text"
      },
      "source": [
        "\"DH transformation matrix\" function        \n"
      ]
    },
    {
      "cell_type": "code",
      "metadata": {
        "id": "7vlWg5sBEuYA",
        "colab_type": "code",
        "colab": {}
      },
      "source": [
        "def DH(angles, joint):\n",
        "     #angles = np.rad2deg(angles)\n",
        "     DH = [[cos(angles[joint]), -(sin(angles[joint])*cos(alpha[joint])),  sin(angles[joint])*sin(alpha[joint]),   a[joint]*cos(angles[joint])], \n",
        "             [sin(angles[joint]),  cos(angles[joint])*cos(alpha[joint]),  -(cos(angles[joint])*(sin(alpha[joint]))), a[joint]*sin(angles[joint])],\n",
        "             [0,                   sin(alpha[joint]),               cos(alpha[joint]),                d[joint]],\n",
        "             [0,                         0,                          0,                          1]]\n",
        "     DH = np.matrix(DH)\n",
        "     return DH"
      ],
      "execution_count": 0,
      "outputs": []
    },
    {
      "cell_type": "markdown",
      "metadata": {
        "id": "1nWc_Q8FPT7W",
        "colab_type": "text"
      },
      "source": [
        "\n",
        "\"Transformation chain\"  function"
      ]
    },
    {
      "cell_type": "code",
      "metadata": {
        "id": "ki3lQk29HjnK",
        "colab_type": "code",
        "colab": {}
      },
      "source": [
        "def transformation(angles,joints):\n",
        "  temp3 = np.array([[1,0,0,0],[0,1,0,0],[0,0,1,0],[0,0,0,1]])\n",
        "  temp3 = np.matrix(temp3)\n",
        "  for  i in range(joints):\n",
        "    temp3 = dot(temp3,DH(angles, i))\n",
        "  return temp3"
      ],
      "execution_count": 0,
      "outputs": []
    },
    {
      "cell_type": "markdown",
      "metadata": {
        "id": "L5Z5xLmMD6Wk",
        "colab_type": "text"
      },
      "source": [
        "Global Configuration"
      ]
    },
    {
      "cell_type": "code",
      "metadata": {
        "id": "WkK2fmxiDcfD",
        "colab_type": "code",
        "colab": {}
      },
      "source": [
        "def gc(i):            #theta2 is gc(1); theta4 is gc(3); theta6 is gc(5)\n",
        "  if(theta[i]>= 0): \n",
        "    return  1\n",
        "  else:\n",
        "    return -1"
      ],
      "execution_count": 0,
      "outputs": []
    },
    {
      "cell_type": "markdown",
      "metadata": {
        "id": "1IqkUgudEhOa",
        "colab_type": "text"
      },
      "source": [
        " FORWARD KINEMATICS  _  \n",
        " \n",
        "\n",
        "---\n",
        "\n",
        "\n",
        " 0 to 7 - base to end effector transformation matrix _"
      ]
    },
    {
      "cell_type": "code",
      "metadata": {
        "id": "RfyFUaRhHy51",
        "colab_type": "code",
        "outputId": "a38a0729-4b66-4cb7-f6c8-fd62454bf111",
        "colab": {
          "base_uri": "https://localhost:8080/",
          "height": 84
        }
      },
      "source": [
        "print(transformation(theta, 7))"
      ],
      "execution_count": 0,
      "outputs": [
        {
          "output_type": "stream",
          "text": [
            "[[ 9.43485717e-01 -1.01655600e-01 -3.15437537e-01 -2.99089573e+02]\n",
            " [ 8.96564010e-02  9.94595417e-01 -5.23611126e-02 -5.42700415e+02]\n",
            " [ 3.19055529e-01  2.11209675e-02  9.47500646e-01  6.78830334e+02]\n",
            " [ 0.00000000e+00  0.00000000e+00  0.00000000e+00  1.00000000e+00]]\n"
          ],
          "name": "stdout"
        }
      ]
    },
    {
      "cell_type": "code",
      "metadata": {
        "id": "Gt_0XKMtZwBX",
        "colab_type": "code",
        "outputId": "bf7ce108-d979-4b58-9150-8cc075948330",
        "colab": {
          "base_uri": "https://localhost:8080/",
          "height": 67
        }
      },
      "source": [
        "T07 = transformation(theta, 7)\n",
        "R07 = matrix(T07[:3,:3])\n",
        "P07 = matrix(T07[:3,3])\n",
        "\n",
        "P02 = matrix([0,0,d_bs]).T\n",
        "P24 = matrix([0,d_se,0]).T\n",
        "P46 = matrix([0,0,d_ew]).T\n",
        "P67 = matrix([0,0,d_wf]).T\n",
        "\n",
        "P26 = P07 - P02 - dot(R07,P67)\n",
        "print(P26)"
      ],
      "execution_count": 0,
      "outputs": [
        {
          "output_type": "stream",
          "text": [
            "[[-259.34444334]\n",
            " [-536.10291469]\n",
            " [ 219.44525285]]\n"
          ],
          "name": "stdout"
        }
      ]
    },
    {
      "cell_type": "markdown",
      "metadata": {
        "id": "6b_GPe9uviRY",
        "colab_type": "text"
      },
      "source": [
        "virtual theta 4"
      ]
    },
    {
      "cell_type": "code",
      "metadata": {
        "id": "SipvPFvEw5D1",
        "colab_type": "code",
        "colab": {}
      },
      "source": [
        "def mag(x):\n",
        "    return math.sqrt(sum(i**2 for i in x))"
      ],
      "execution_count": 0,
      "outputs": []
    },
    {
      "cell_type": "code",
      "metadata": {
        "id": "Y-NmD1ATwXo5",
        "colab_type": "code",
        "outputId": "ee0ee246-3996-445a-f277-765db18db49b",
        "colab": {
          "base_uri": "https://localhost:8080/",
          "height": 84
        }
      },
      "source": [
        "print(P26)\n",
        "mag(P26)"
      ],
      "execution_count": 0,
      "outputs": [
        {
          "output_type": "stream",
          "text": [
            "[[-259.34444334]\n",
            " [-536.10291469]\n",
            " [ 219.44525285]]\n"
          ],
          "name": "stdout"
        },
        {
          "output_type": "execute_result",
          "data": {
            "text/plain": [
              "634.6826722329882"
            ]
          },
          "metadata": {
            "tags": []
          },
          "execution_count": 10
        }
      ]
    },
    {
      "cell_type": "code",
      "metadata": {
        "id": "ofdfxne5gaTA",
        "colab_type": "code",
        "colab": {}
      },
      "source": [
        "k = (mag(P26)**2 - d_se**2 - d_ew**2)/(2*d_se*d_ew)\n",
        "theta4_v = gc(3)*acos(k)"
      ],
      "execution_count": 0,
      "outputs": []
    },
    {
      "cell_type": "markdown",
      "metadata": {
        "id": "U80QtNr-zbOj",
        "colab_type": "text"
      },
      "source": [
        "virtual theta 1"
      ]
    },
    {
      "cell_type": "code",
      "metadata": {
        "id": "PR9ZQaVrzEVr",
        "colab_type": "code",
        "outputId": "4d628f29-f9de-4d27-9203-2f727a0997ec",
        "colab": {
          "base_uri": "https://localhost:8080/",
          "height": 84
        }
      },
      "source": [
        "R01 = DH(theta, 0)[:3,2:3]\n",
        "print(R01)\n",
        "alignment =mag(np.cross(P26, R01, axis=0))  #axis = 0 because R01 and P26 are column vectors\n",
        "print(alignment)"
      ],
      "execution_count": 0,
      "outputs": [
        {
          "output_type": "stream",
          "text": [
            "[[-5.00000000e-01]\n",
            " [ 8.66025404e-01]\n",
            " [ 6.12323400e-17]]\n",
            "539.3149081990414\n"
          ],
          "name": "stdout"
        }
      ]
    },
    {
      "cell_type": "code",
      "metadata": {
        "id": "c7VuJoCdDiLT",
        "colab_type": "code",
        "colab": {}
      },
      "source": [
        "if alignment > 0:\n",
        "  theta1_v = math.atan2(P26[1:2], P26[0:1])\n",
        "elif alignment == 0:\n",
        "  theta1_v = 0"
      ],
      "execution_count": 0,
      "outputs": []
    },
    {
      "cell_type": "markdown",
      "metadata": {
        "id": "eg-NwaScE6B1",
        "colab_type": "text"
      },
      "source": [
        "calculating Phi for Virtual Theta 2 "
      ]
    },
    {
      "cell_type": "code",
      "metadata": {
        "id": "SZ8SOlZgFNKl",
        "colab_type": "code",
        "outputId": "4971de4f-dd78-42a7-ad26-4eb9e20eef7f",
        "colab": {
          "base_uri": "https://localhost:8080/",
          "height": 50
        }
      },
      "source": [
        "phi = math.acos((d_se**2 + (mag(P26))**2 - d_ew**2) / ( 2*d_se*(mag(P26))))\n",
        "print(phi)\n",
        "theta2_v = math.atan2(math.sqrt( (P26[0:1])**2+(P26[1:2])**2 ), P26[2:3]) + gc(3)*phi\n",
        "print(theta2_v)"
      ],
      "execution_count": 0,
      "outputs": [
        {
          "output_type": "stream",
          "text": [
            "0.6544984694978733\n",
            "1.8722505889397933\n"
          ],
          "name": "stdout"
        }
      ]
    },
    {
      "cell_type": "markdown",
      "metadata": {
        "id": "eHPu76v6IhmA",
        "colab_type": "text"
      },
      "source": [
        "Theta Virtual 3, this angle is kept zero so we can convert 7dof robot into a 6 dof robot"
      ]
    },
    {
      "cell_type": "code",
      "metadata": {
        "id": "-nXLwHRcIeHa",
        "colab_type": "code",
        "colab": {}
      },
      "source": [
        "theta3_v = 0"
      ],
      "execution_count": 0,
      "outputs": []
    },
    {
      "cell_type": "markdown",
      "metadata": {
        "id": "FQ2_N_aHJIyL",
        "colab_type": "text"
      },
      "source": [
        "virtual angles\n",
        "\n",
        "---\n",
        "\n",
        "\n",
        "ASSEMBLE"
      ]
    },
    {
      "cell_type": "code",
      "metadata": {
        "id": "OoMlopmwILL1",
        "colab_type": "code",
        "colab": {}
      },
      "source": [
        "theta_v = np.array([theta1_v, theta2_v, theta3_v, theta4_v])"
      ],
      "execution_count": 0,
      "outputs": []
    },
    {
      "cell_type": "markdown",
      "metadata": {
        "id": "TZKWsgftGHWx",
        "colab_type": "text"
      },
      "source": [
        "Psi angle, the angle between the \"virtual elbow\" and \"real elbow\" wrt shoulder-wrist axis"
      ]
    },
    {
      "cell_type": "code",
      "metadata": {
        "id": "fNVRAl-gBBxi",
        "colab_type": "code",
        "colab": {}
      },
      "source": [
        "P02_v = transformation(theta_v,2)[0:3, 3:4]\n",
        "P02 = transformation(theta, 2)[0:3,3:4]\n",
        "\n",
        "P04_v = transformation(theta_v,4)[0:3, 3:4]\n",
        "P04 = transformation(theta, 4)[0:3, 3:4]\n",
        "\n",
        "P06 = transformation(theta,6)[0:3, 3:4]\n",
        "P06_v = P06"
      ],
      "execution_count": 0,
      "outputs": []
    },
    {
      "cell_type": "code",
      "metadata": {
        "id": "qWnFxV4cBIqH",
        "colab_type": "code",
        "outputId": "0fe1480d-2179-43d4-c7df-4a6c01aee94b",
        "colab": {
          "base_uri": "https://localhost:8080/",
          "height": 168
        }
      },
      "source": [
        "\n",
        "j = P04_v - P02_v\n",
        "q = P06_v - P02_v\n",
        "normal_virtual_sew = np.cross( ( (j) / mag(j) ) , ( (q) / mag(q) ) , axis = 0 )\n",
        "\n",
        "j = P04 - P02\n",
        "q = P06 - P02\n",
        "normal_real_sew = np.cross( ( (j) / mag(j) ) , ( (q) / mag(q) ) , axis = 0 )\n",
        "print((j)/mag(j))\n",
        "print(q/mag(q))\n",
        "print(normal_real_sew)"
      ],
      "execution_count": 0,
      "outputs": [
        {
          "output_type": "stream",
          "text": [
            "[[-0.61237244]\n",
            " [-0.35355339]\n",
            " [ 0.70710678]]\n",
            "[[-0.40862065]\n",
            " [-0.84467867]\n",
            " [ 0.34575586]]\n",
            "[[ 0.47503486]\n",
            " [-0.07720707]\n",
            " [ 0.37278872]]\n"
          ],
          "name": "stdout"
        }
      ]
    },
    {
      "cell_type": "code",
      "metadata": {
        "id": "VPOC6-Ta4dvC",
        "colab_type": "code",
        "colab": {}
      },
      "source": [
        "mod_real_sew = np.linalg.norm(normal_real_sew)\n",
        "mod_virtual_sew = np.linalg.norm(normal_virtual_sew)\n",
        "\n",
        "if mod_real_sew == 0:\n",
        "  mod_real_sew = 0.0000000000000001\n",
        "if mod_virtual_sew == 0:\n",
        "  mod_virtual_sew = 0.0000000000000001"
      ],
      "execution_count": 0,
      "outputs": []
    },
    {
      "cell_type": "code",
      "metadata": {
        "id": "-YhYQ3ep4YRi",
        "colab_type": "code",
        "outputId": "3fc77702-7bdd-4621-aefc-08d933b85950",
        "colab": {
          "base_uri": "https://localhost:8080/",
          "height": 67
        }
      },
      "source": [
        "\n",
        "normal_virtual_sew_hat = normal_virtual_sew  /  mod_virtual_sew\n",
        "normal_real_sew_hat = normal_real_sew  /  mod_real_sew\n",
        "print(normal_real_sew)"
      ],
      "execution_count": 0,
      "outputs": [
        {
          "output_type": "stream",
          "text": [
            "[[ 0.47503486]\n",
            " [-0.07720707]\n",
            " [ 0.37278872]]\n"
          ],
          "name": "stdout"
        }
      ]
    },
    {
      "cell_type": "code",
      "metadata": {
        "id": "bUu9KKkRJGXW",
        "colab_type": "code",
        "outputId": "6cf60310-fa55-4ee4-e826-c1012519428c",
        "colab": {
          "base_uri": "https://localhost:8080/",
          "height": 34
        }
      },
      "source": [
        "\n",
        "\n",
        "g =np.cross((normal_virtual_sew_hat),(normal_real_sew_hat), axis = 0)\n",
        "g= dot(g.T, P26)\n",
        "\n",
        "if g>= 0:\n",
        "  g = 1\n",
        "elif g < 0:\n",
        "  g = -1\n",
        "\n",
        "psi = g* math.acos(dot(normal_virtual_sew_hat.T, normal_real_sew_hat))\n",
        "print(psi)"
      ],
      "execution_count": 0,
      "outputs": [
        {
          "output_type": "stream",
          "text": [
            "-2.43055109252351\n"
          ],
          "name": "stdout"
        }
      ]
    },
    {
      "cell_type": "markdown",
      "metadata": {
        "id": "wEJfu6ScrwJt",
        "colab_type": "text"
      },
      "source": [
        "INVERSE KINEMATICS"
      ]
    },
    {
      "cell_type": "code",
      "metadata": {
        "id": "TSJ8TF9iA0Ce",
        "colab_type": "code",
        "colab": {}
      },
      "source": [
        "def skew(x):  \n",
        "    return np.matrix([[0, -x.item(2), x.item(1)],\n",
        "                     [x.item(2), 0, -x.item(0)],\n",
        "                     [-x.item(1), x.item(0), 0]])"
      ],
      "execution_count": 0,
      "outputs": []
    },
    {
      "cell_type": "code",
      "metadata": {
        "id": "7fq22SmVYSLJ",
        "colab_type": "code",
        "colab": {}
      },
      "source": [
        "P26_hat = P26/mag(P26)"
      ],
      "execution_count": 0,
      "outputs": []
    },
    {
      "cell_type": "code",
      "metadata": {
        "id": "ZXy4nObecMCv",
        "colab_type": "code",
        "colab": {}
      },
      "source": [
        "P26_skew = skew(P26_hat)\n",
        "\n",
        "R03_v = transformation(theta_v, 2)[0:3,0:3]\n",
        "\n",
        "As = np.matmul(P26_skew, R03_v)\n",
        "Bs = -1 * np.matmul( (P26_skew**2),  R03_v)\n",
        "Cs = np.matmul((np.matmul(P26_hat, P26_hat.T)), R03_v) "
      ],
      "execution_count": 0,
      "outputs": []
    },
    {
      "cell_type": "markdown",
      "metadata": {
        "id": "6D0FnWXKrky7",
        "colab_type": "text"
      },
      "source": [
        "Obtaining R03 for theta_real1, theta_real2, theta_real3"
      ]
    },
    {
      "cell_type": "code",
      "metadata": {
        "id": "eiERySJWleVa",
        "colab_type": "code",
        "colab": {}
      },
      "source": [
        "R03 = As*sin(psi) + Bs*cos(psi) + Cs"
      ],
      "execution_count": 0,
      "outputs": []
    },
    {
      "cell_type": "code",
      "metadata": {
        "id": "e9u-0Tt2tjSv",
        "colab_type": "code",
        "outputId": "4cdc7e88-2caa-490e-c719-70054d8aa5b0",
        "colab": {
          "base_uri": "https://localhost:8080/",
          "height": 34
        }
      },
      "source": [
        "As[2,1]*sin(psi) + Bs[2,1]*cos(psi) + Cs[2,1]"
      ],
      "execution_count": 0,
      "outputs": [
        {
          "output_type": "execute_result",
          "data": {
            "text/plain": [
              "-0.6123724356957941"
            ]
          },
          "metadata": {
            "tags": []
          },
          "execution_count": 26
        }
      ]
    },
    {
      "cell_type": "code",
      "metadata": {
        "id": "y2Pn7k6TsR98",
        "colab_type": "code",
        "colab": {}
      },
      "source": [
        "theta1_r = math.atan2( gc(1) * (As[1,1]*sin(psi) + Bs[1,1]*cos(psi) + Cs[1,1]),  gc(1) * (As[0,1]*sin(psi) + Bs[0,1]*cos(psi) + Cs[0,1])  )\n",
        "theta2_r = gc(1)* math.acos(As[2,1]*sin(psi) + Bs[2,1]*cos(psi) + Cs[2,1])\n",
        "theta3_r = math.atan2( gc(1) * (-As[2,2]*sin(psi) - Bs[2,2]*cos(psi) - Cs[2,2]),  gc(1) * (-As[2,0]*sin(psi) - Bs[2,0]*cos(psi) - Cs[2,0])  )\n",
        "theta4_r = theta4_v"
      ],
      "execution_count": 0,
      "outputs": []
    },
    {
      "cell_type": "markdown",
      "metadata": {
        "id": "benlMAIU4l2g",
        "colab_type": "text"
      },
      "source": [
        "REAL ANGLES\n",
        "\n",
        "---\n",
        "ASSEMBLE\n"
      ]
    },
    {
      "cell_type": "code",
      "metadata": {
        "id": "WCO73yZY4rOe",
        "colab_type": "code",
        "colab": {}
      },
      "source": [
        "theta_r = np.array([theta1_r, theta2_r, theta3_r, theta4_r])"
      ],
      "execution_count": 0,
      "outputs": []
    },
    {
      "cell_type": "code",
      "metadata": {
        "id": "ZSUIx5N77bgD",
        "colab_type": "code",
        "colab": {}
      },
      "source": [
        "R34 = DH(theta_r, 3)[0:3, 0:3]\n",
        "\n",
        "Aw = R34.T * As.T * R07\n",
        "Bw = R34.T * Bs.T * R07\n",
        "Cw = R34.T * Cs.T * R07"
      ],
      "execution_count": 0,
      "outputs": []
    },
    {
      "cell_type": "code",
      "metadata": {
        "id": "7njcnKZs86YS",
        "colab_type": "code",
        "outputId": "de89930e-d525-495a-9048-65dc579b3431",
        "colab": {
          "base_uri": "https://localhost:8080/",
          "height": 84
        }
      },
      "source": [
        "R47 = Aw*sin(psi) + Bw*cos(psi) + Cw\n",
        "\n",
        "theta5_r = math.atan2( (gc(5)*( Aw[1,2]*sin(psi) + Bw[1,2]*cos(psi) + Cw[1,2]))  , (gc(5)*( Aw[0,2]*sin(psi) + Bw[0,2]*cos(psi) + Cw[0,2]))  )\n",
        "theta6_r = gc(5)*math.acos( Aw[2,2]*sin(psi) + Bw[2,2]*cos(psi) + Cw[2,2] )\n",
        "theta7_r = math.atan2( (gc(5)*( Aw[2,1]*sin(psi) + Bw[2,1]*cos(psi) + Cw[2,1]))  , (gc(5)*( - Aw[2,0]*sin(psi) - Bw[2,0]*cos(psi) - Cw[2,0]))  )\n",
        "\n",
        "theta_r = np.append(theta_r, theta5_r)\n",
        "theta_r = np.append(theta_r, theta6_r)\n",
        "theta_r = np.append(theta_r, theta7_r)\n",
        "print(theta_r)\n",
        "print(np.rad2deg(theta_r))"
      ],
      "execution_count": 0,
      "outputs": [
        {
          "output_type": "stream",
          "text": [
            "[-0.16112043 -2.22985436  1.10714872  1.30899694 -1.84143359  1.98616917\n",
            " -1.2230364 ]\n",
            "[  -9.23152048 -127.76124391   63.43494882   75.         -105.50637281\n",
            "  113.79911059  -70.07482377]\n"
          ],
          "name": "stdout"
        }
      ]
    },
    {
      "cell_type": "markdown",
      "metadata": {
        "id": "lNGhqYoJjd2f",
        "colab_type": "text"
      },
      "source": [
        "Testing the obtained real angles after INVERSE KINEMATICS"
      ]
    },
    {
      "cell_type": "code",
      "metadata": {
        "id": "ETJDmGR7Ci59",
        "colab_type": "code",
        "outputId": "2a404a4c-7115-4f9c-83b6-cf40b1f7336f",
        "colab": {
          "base_uri": "https://localhost:8080/",
          "height": 84
        }
      },
      "source": [
        "# \"theta_r\" contains obtained real angles after IK\n",
        "print(transformation(theta_r, 7))"
      ],
      "execution_count": 0,
      "outputs": [
        {
          "output_type": "stream",
          "text": [
            "[[ 9.43485717e-01 -1.01655600e-01 -3.15437537e-01 -3.83660889e+02]\n",
            " [ 8.96564010e-02  9.94595417e-01 -5.23611126e-02 -3.00815881e+02]\n",
            " [ 3.19055529e-01  2.11209675e-02  9.47500646e-01  1.44361071e+01]\n",
            " [ 0.00000000e+00  0.00000000e+00  0.00000000e+00  1.00000000e+00]]\n"
          ],
          "name": "stdout"
        }
      ]
    }
  ]
}